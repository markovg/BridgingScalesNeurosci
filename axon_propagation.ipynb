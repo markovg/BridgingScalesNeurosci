{
 "metadata": {
  "name": ""
 },
 "nbformat": 3,
 "nbformat_minor": 0,
 "worksheets": [
  {
   "cells": [
    {
     "cell_type": "code",
     "collapsed": false,
     "input": [
      "import neuron\n",
      "from neuron import h\n",
      "import numpy as np\n",
      "import matplotlib.pyplot as plt"
     ],
     "language": "python",
     "metadata": {},
     "outputs": [],
     "prompt_number": 1
    },
    {
     "cell_type": "markdown",
     "metadata": {},
     "source": [
      "Enable inline plotting"
     ]
    },
    {
     "cell_type": "code",
     "collapsed": false,
     "input": [
      "%matplotlib inline"
     ],
     "language": "python",
     "metadata": {},
     "outputs": [],
     "prompt_number": 2
    },
    {
     "cell_type": "markdown",
     "metadata": {},
     "source": [
      "Create a 1000 um long axonal section made of 40 cylinders of 1 um diameter"
     ]
    },
    {
     "cell_type": "code",
     "collapsed": false,
     "input": [
      "axon = h.Section()\n",
      "axon.L = 1000.0\n",
      "axon.diam = 1.0\n",
      "axon.nseg = 40"
     ],
     "language": "python",
     "metadata": {},
     "outputs": [],
     "prompt_number": 3
    },
    {
     "cell_type": "markdown",
     "metadata": {},
     "source": [
      "Insert the Hodgkin-Huxley channels into the axonal membrane"
     ]
    },
    {
     "cell_type": "code",
     "collapsed": false,
     "input": [
      "axon.insert('hh')"
     ],
     "language": "python",
     "metadata": {},
     "outputs": [
      {
       "metadata": {},
       "output_type": "pyout",
       "prompt_number": 4,
       "text": [
        "<nrn.Section at 0x7f3bedd56fd0>"
       ]
      }
     ],
     "prompt_number": 4
    },
    {
     "cell_type": "markdown",
     "metadata": {},
     "source": [
      "Configure the passive properties"
     ]
    },
    {
     "cell_type": "code",
     "collapsed": false,
     "input": [
      "for sec in h.allsec():\n",
      "    sec.Ra = 100\n",
      "    sec.cm = 1"
     ],
     "language": "python",
     "metadata": {},
     "outputs": [],
     "prompt_number": 5
    },
    {
     "cell_type": "markdown",
     "metadata": {},
     "source": [
      "Define a short current pulse at one end of the axon as input to generate an action potential "
     ]
    },
    {
     "cell_type": "code",
     "collapsed": false,
     "input": [
      "stim = h.IClamp(axon(1./80))\n",
      "stim.delay = 1.0 # [ms]\n",
      "stim.dur = 1 # [ms] duration\n",
      "stim.amp = 0.5 # [nA] amplitude"
     ],
     "language": "python",
     "metadata": {},
     "outputs": [],
     "prompt_number": 6
    },
    {
     "cell_type": "markdown",
     "metadata": {},
     "source": [
      "Define recorders to observe the AP at regular intervals along the axon"
     ]
    },
    {
     "cell_type": "code",
     "collapsed": false,
     "input": [
      "recorders = []\n",
      "for i in range(10):\n",
      "    recorder = h.Vector()\n",
      "    recorder.record(axon((1.+i*8)/80)._ref_v)\n",
      "    recorders.append(recorder)   "
     ],
     "language": "python",
     "metadata": {},
     "outputs": [],
     "prompt_number": 7
    },
    {
     "cell_type": "markdown",
     "metadata": {},
     "source": [
      "Define the timestep and simulation length"
     ]
    },
    {
     "cell_type": "code",
     "collapsed": false,
     "input": [
      "h.dt = 0.01 #ms\n",
      "tstop = 100.0 #ms"
     ],
     "language": "python",
     "metadata": {},
     "outputs": [],
     "prompt_number": 42
    },
    {
     "cell_type": "markdown",
     "metadata": {},
     "source": [
      "Define the run loop"
     ]
    },
    {
     "cell_type": "code",
     "collapsed": false,
     "input": [
      "def run():\n",
      "    h.finitialize()\n",
      "    while h.t<tstop:\n",
      "        h.fadvance()"
     ],
     "language": "python",
     "metadata": {},
     "outputs": [],
     "prompt_number": 27
    },
    {
     "cell_type": "markdown",
     "metadata": {},
     "source": [
      "This launches the simulation"
     ]
    },
    {
     "cell_type": "code",
     "collapsed": false,
     "input": [
      "run()"
     ],
     "language": "python",
     "metadata": {},
     "outputs": [],
     "prompt_number": 28
    },
    {
     "cell_type": "markdown",
     "metadata": {},
     "source": [
      "Plot the voltage for each of the regularly space recorders"
     ]
    },
    {
     "cell_type": "code",
     "collapsed": false,
     "input": [
      "for recorder in recorders:\n",
      "    v_arr = np.array(recorder)\n",
      "    # time bins\n",
      "    t = np.linspace(0,tstop,len(v_arr))\n",
      "    plt.plot(t,v_arr)\n",
      "    plt.axis([0,10,-80,60])\n"
     ],
     "language": "python",
     "metadata": {},
     "outputs": [
      {
       "metadata": {},
       "output_type": "display_data",
       "png": "[encoded data removed]",
       "text": [
        "<matplotlib.figure.Figure at 0x7f3bee676dd0>"
       ]
      }
     ],
     "prompt_number": 29
    },
    {
     "cell_type": "markdown",
     "metadata": {},
     "source": [
      "Use the GUI to visualize the model: Tools->Model View\n",
      "\n",
      "For more details:\n",
      "https://www.neuron.yale.edu/neuron/static/papers/mview/modelviewhbp2004.html"
     ]
    },
    {
     "cell_type": "code",
     "collapsed": false,
     "input": [
      "from neuron import gui"
     ],
     "language": "python",
     "metadata": {},
     "outputs": [],
     "prompt_number": 30
    },
    {
     "cell_type": "markdown",
     "metadata": {},
     "source": [
      "Estimation of propagation speed in m/s (by inspection of the above graph"
     ]
    },
    {
     "cell_type": "code",
     "collapsed": false,
     "input": [
      "Dx = 1e-3 #[m]\n",
      "Dt = 2.3e-3 #[s]\n",
      "prop_v = Dx/Dt\n",
      "print \"Propagation speed estimate: %f m/s\" % prop_v"
     ],
     "language": "python",
     "metadata": {},
     "outputs": [
      {
       "output_type": "stream",
       "stream": "stdout",
       "text": [
        "Propagation speed estimate: 0.434783 m/s\n"
       ]
      }
     ],
     "prompt_number": 46
    },
    {
     "cell_type": "markdown",
     "metadata": {},
     "source": [
      "\n",
      "## Transported Charge per AP\n",
      "\n",
      "Now lets estimate the axial current between the last two compartments, and thereby estimate the net transported charge per AP.  This follows the method described here: https://www.neuron.yale.edu/phpBB/viewtopic.php?f=15&t=2942"
     ]
    },
    {
     "cell_type": "code",
     "collapsed": false,
     "input": [
      "v1 = h.Vector(); v2 = h.Vector()"
     ],
     "language": "python",
     "metadata": {},
     "outputs": [],
     "prompt_number": 32
    },
    {
     "cell_type": "markdown",
     "metadata": {},
     "source": [
      "Record the voltage in the middle of two adjactent compartments (near one end of the axon)"
     ]
    },
    {
     "cell_type": "code",
     "collapsed": false,
     "input": [
      "v1.record(axon(38./40+1./80)._ref_v)\n",
      "v2.record(axon(39./40+1./80)._ref_v)"
     ],
     "language": "python",
     "metadata": {},
     "outputs": [
      {
       "metadata": {},
       "output_type": "pyout",
       "prompt_number": 33,
       "text": [
        "1.0"
       ]
      }
     ],
     "prompt_number": 33
    },
    {
     "cell_type": "code",
     "collapsed": false,
     "input": [
      "run()"
     ],
     "language": "python",
     "metadata": {},
     "outputs": [],
     "prompt_number": 34
    },
    {
     "cell_type": "code",
     "collapsed": false,
     "input": [
      "v1a = np.array(v1)\n",
      "v2a = np.array(v2)"
     ],
     "language": "python",
     "metadata": {},
     "outputs": [],
     "prompt_number": 35
    },
    {
     "cell_type": "markdown",
     "metadata": {},
     "source": [
      "The axial cuurent between the two compartments is the DeltaV/axial_resistance"
     ]
    },
    {
     "cell_type": "code",
     "collapsed": false,
     "input": [
      "iax = (v1a-v2a)/axon(39./40+1./80).ri()\n",
      "t = np.linspace(0,tstop,len(iax))"
     ],
     "language": "python",
     "metadata": {},
     "outputs": [],
     "prompt_number": 36
    },
    {
     "cell_type": "code",
     "collapsed": false,
     "input": [
      "plt.plot(t,iax); plt.axis([0,10,-.05,0.15])\n"
     ],
     "language": "python",
     "metadata": {},
     "outputs": [
      {
       "metadata": {},
       "output_type": "pyout",
       "prompt_number": 37,
       "text": [
        "[0, 10, -0.05, 0.15]"
       ]
      },
      {
       "metadata": {},
       "output_type": "display_data",
       "png": "[encoded data removed]",
       "text": [
        "<matplotlib.figure.Figure at 0x7f3bee634e10>"
       ]
      }
     ],
     "prompt_number": 37
    },
    {
     "cell_type": "markdown",
     "metadata": {},
     "source": [
      "Summing dQ = I*dt over an AP gives an estimate of the net transported charge."
     ]
    },
    {
     "cell_type": "code",
     "collapsed": false,
     "input": [
      "sum(iax*h.dt)\n"
     ],
     "language": "python",
     "metadata": {},
     "outputs": [
      {
       "metadata": {},
       "output_type": "pyout",
       "prompt_number": 38,
       "text": [
        "0.0027509297484643765"
       ]
      }
     ],
     "prompt_number": 38
    },
    {
     "cell_type": "markdown",
     "metadata": {},
     "source": [
      "dt = 0.01 -> net charge transport is 0.0027509297477795055 nA*ms\n",
      "\n",
      "dt = 0.001 -> net charge transport is 0.0028866171300924674 nA*ms"
     ]
    }
   ],
   "metadata": {}
  }
 ]
}